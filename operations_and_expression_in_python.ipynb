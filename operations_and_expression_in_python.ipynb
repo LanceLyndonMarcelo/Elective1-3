{
  "nbformat": 4,
  "nbformat_minor": 0,
  "metadata": {
    "colab": {
      "name": "operations and expression in python.ipynb",
      "provenance": [],
      "authorship_tag": "ABX9TyMPlkhQmzuLJ14tKyLbV0tF",
      "include_colab_link": true
    },
    "kernelspec": {
      "name": "python3",
      "display_name": "Python 3"
    },
    "language_info": {
      "name": "python"
    }
  },
  "cells": [
    {
      "cell_type": "markdown",
      "metadata": {
        "id": "view-in-github",
        "colab_type": "text"
      },
      "source": [
        "<a href=\"https://colab.research.google.com/github/LanceLyndonMarcelo/Elective1-3/blob/main/operations_and_expression_in_python.ipynb\" target=\"_parent\"><img src=\"https://colab.research.google.com/assets/colab-badge.svg\" alt=\"Open In Colab\"/></a>"
      ]
    },
    {
      "cell_type": "markdown",
      "source": [
        "##Boolean Operators"
      ],
      "metadata": {
        "id": "ovkk5QwUJ844"
      }
    },
    {
      "cell_type": "code",
      "source": [
        "x = 10\n",
        "y = 9\n",
        "\n",
        "print(x>y)\n",
        "print(x==y)\n",
        "print(x<y)"
      ],
      "metadata": {
        "colab": {
          "base_uri": "https://localhost:8080/"
        },
        "id": "8LN3Y4SAKN-B",
        "outputId": "ba23369b-455e-4cf3-c2c9-f31d034957b1"
      },
      "execution_count": 17,
      "outputs": [
        {
          "output_type": "stream",
          "name": "stdout",
          "text": [
            "True\n",
            "False\n",
            "False\n"
          ]
        }
      ]
    },
    {
      "cell_type": "markdown",
      "source": [
        "##Bool Functions"
      ],
      "metadata": {
        "id": "3g2H5LeFKzk6"
      }
    },
    {
      "cell_type": "code",
      "source": [
        "print(bool(\"Lance\"))\n",
        "print(bool(17))\n",
        "\n",
        "print(bool(None))\n",
        "print(bool())\n",
        "print(bool([]))\n",
        "print(bool(0))"
      ],
      "metadata": {
        "colab": {
          "base_uri": "https://localhost:8080/"
        },
        "id": "x0-P8A6ZKdao",
        "outputId": "d1750479-14cc-48e0-a383-74ca4854a3d4"
      },
      "execution_count": 19,
      "outputs": [
        {
          "output_type": "stream",
          "name": "stdout",
          "text": [
            "True\n",
            "True\n",
            "False\n",
            "False\n",
            "False\n",
            "False\n"
          ]
        }
      ]
    },
    {
      "cell_type": "markdown",
      "source": [
        "#Defining Function"
      ],
      "metadata": {
        "id": "bZJ8eP4AK6gC"
      }
    },
    {
      "cell_type": "code",
      "source": [
        "def myFunction():\n",
        "  return False\n",
        "\n",
        "print(myFunction())"
      ],
      "metadata": {
        "colab": {
          "base_uri": "https://localhost:8080/"
        },
        "id": "34SJOc4BK8tI",
        "outputId": "a3ad64ce-e9bf-460c-deb8-ab1d8b98f3d5"
      },
      "execution_count": 20,
      "outputs": [
        {
          "output_type": "stream",
          "name": "stdout",
          "text": [
            "False\n"
          ]
        }
      ]
    },
    {
      "cell_type": "code",
      "source": [
        "def myFunction():\n",
        "  return False\n",
        "\n",
        "if myFunction():\n",
        "  print(\"Yes\")\n",
        "else:\n",
        "  print(\"No\")"
      ],
      "metadata": {
        "colab": {
          "base_uri": "https://localhost:8080/"
        },
        "id": "eKZhkyyTLHJ_",
        "outputId": "66b1f6d7-af92-46d3-da3e-b378522f1af6"
      },
      "execution_count": 22,
      "outputs": [
        {
          "output_type": "stream",
          "name": "stdout",
          "text": [
            "No\n"
          ]
        }
      ]
    },
    {
      "cell_type": "markdown",
      "source": [
        "##Application 1"
      ],
      "metadata": {
        "id": "2I3ZrctWLcMP"
      }
    },
    {
      "cell_type": "code",
      "execution_count": 24,
      "metadata": {
        "colab": {
          "base_uri": "https://localhost:8080/"
        },
        "id": "UZgxz7Gn4P0f",
        "outputId": "1d92fe20-92b7-4ff0-9acb-751b54f92ba7"
      },
      "outputs": [
        {
          "output_type": "stream",
          "name": "stdout",
          "text": [
            "False\n",
            "True\n"
          ]
        }
      ],
      "source": [
        "a=6\n",
        "b=7\n",
        "\n",
        "print(a==b)\n",
        "print(a!=b)"
      ]
    },
    {
      "cell_type": "markdown",
      "source": [
        "##Arithmetic Operations"
      ],
      "metadata": {
        "id": "95QzFOxULx1x"
      }
    },
    {
      "cell_type": "code",
      "source": [
        "print(a+b)\n",
        "print(a-b)\n",
        "print(a*b)\n",
        "print(a**b)"
      ],
      "metadata": {
        "colab": {
          "base_uri": "https://localhost:8080/"
        },
        "id": "7pZS-4DW45Ve",
        "outputId": "7e5d7b1a-8652-4ef8-f751-33e146e8dc56"
      },
      "execution_count": 25,
      "outputs": [
        {
          "output_type": "stream",
          "name": "stdout",
          "text": [
            "13\n",
            "-1\n",
            "42\n",
            "279936\n"
          ]
        }
      ]
    },
    {
      "cell_type": "markdown",
      "source": [
        "##Bitwise Operators"
      ],
      "metadata": {
        "id": "gy-oKrTwL-e5"
      }
    },
    {
      "cell_type": "code",
      "source": [
        "c=60\n",
        "d=13\n",
        "print(c&d)\n",
        "print(c|d)\n",
        "print(c<<1)\n",
        "print(c<<2)"
      ],
      "metadata": {
        "colab": {
          "base_uri": "https://localhost:8080/"
        },
        "id": "PxBl6vQA6ZRH",
        "outputId": "b4bfa24f-29d8-427a-b79f-4b409aea7f1c"
      },
      "execution_count": 6,
      "outputs": [
        {
          "output_type": "stream",
          "name": "stdout",
          "text": [
            "12\n",
            "61\n",
            "120\n",
            "240\n"
          ]
        }
      ]
    },
    {
      "cell_type": "markdown",
      "source": [
        "##Assignment Operators"
      ],
      "metadata": {
        "id": "25tt_tWXMOyZ"
      }
    },
    {
      "cell_type": "code",
      "source": [
        "c+=3\n",
        "c%=3\n",
        "\n",
        "print (c)"
      ],
      "metadata": {
        "colab": {
          "base_uri": "https://localhost:8080/"
        },
        "id": "WF4QWKjy7_Fg",
        "outputId": "50a65786-e984-41d7-cf21-c3611927ae74"
      },
      "execution_count": 11,
      "outputs": [
        {
          "output_type": "stream",
          "name": "stdout",
          "text": [
            "0\n"
          ]
        }
      ]
    },
    {
      "cell_type": "markdown",
      "source": [
        "##Logical Operators"
      ],
      "metadata": {
        "id": "TIvCcUoEMZd5"
      }
    },
    {
      "cell_type": "code",
      "source": [
        "c = True\n",
        "d = True\n",
        "\n",
        "not(c and d)"
      ],
      "metadata": {
        "colab": {
          "base_uri": "https://localhost:8080/"
        },
        "id": "OtAqj4G89CC_",
        "outputId": "a6829675-3eff-432f-a8ec-77cb7b6932ab"
      },
      "execution_count": 13,
      "outputs": [
        {
          "output_type": "execute_result",
          "data": {
            "text/plain": [
              "False"
            ]
          },
          "metadata": {},
          "execution_count": 13
        }
      ]
    },
    {
      "cell_type": "markdown",
      "source": [
        "##Identity"
      ],
      "metadata": {
        "id": "wu1aWFLtMi-K"
      }
    },
    {
      "cell_type": "code",
      "source": [
        "c is d\n",
        "c is not d"
      ],
      "metadata": {
        "colab": {
          "base_uri": "https://localhost:8080/"
        },
        "id": "XgPqCCfa9nMu",
        "outputId": "ec31e76f-66fc-4342-b11e-c2d4cfb168bd"
      },
      "execution_count": 15,
      "outputs": [
        {
          "output_type": "execute_result",
          "data": {
            "text/plain": [
              "False"
            ]
          },
          "metadata": {},
          "execution_count": 15
        }
      ]
    },
    {
      "cell_type": "markdown",
      "source": [
        "##Application 2"
      ],
      "metadata": {
        "id": "GgKq65kRM2XB"
      }
    },
    {
      "cell_type": "code",
      "source": [
        "e = 10\n",
        "f = 5\n",
        "\n",
        "print(e+f)\n",
        "print(e//f)\n",
        "print(e>>2)\n",
        "print(f>>2)"
      ],
      "metadata": {
        "colab": {
          "base_uri": "https://localhost:8080/"
        },
        "id": "jWrwjrZeM4uR",
        "outputId": "558f4372-4dbc-4879-cfba-3645628297a4"
      },
      "execution_count": 26,
      "outputs": [
        {
          "output_type": "stream",
          "name": "stdout",
          "text": [
            "15\n",
            "2\n",
            "2\n",
            "1\n"
          ]
        }
      ]
    }
  ]
}